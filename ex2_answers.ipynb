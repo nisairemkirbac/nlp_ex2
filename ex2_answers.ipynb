{
 "cells": [
  {
   "cell_type": "markdown",
   "metadata": {
    "id": "SjJ4oMs7heYb"
   },
   "source": [
    "# LSTM Gates"
   ]
  },
  {
   "cell_type": "markdown",
   "metadata": {
    "id": "8Uwu7zSRQijy"
   },
   "source": [
    "### Question 1"
   ]
  },
  {
   "cell_type": "code",
   "execution_count": null,
   "metadata": {
    "colab": {
     "base_uri": "https://localhost:8080/"
    },
    "id": "tXU2CE8nNgIp",
    "outputId": "de386b40-e90f-467c-9398-71d2d0d4b450"
   },
   "outputs": [
    {
     "name": "stdout",
     "output_type": "stream",
     "text": [
      "[ 1.22  0.13 -0.63] [ 0.16793084  0.01292726 -0.39063655]\n"
     ]
    }
   ],
   "source": [
    "import numpy as np\n",
    "def tanh(x):\n",
    "  return (np.exp(x) - np.exp(-x))/(np.exp(x) + np.exp(-x))\n",
    "Cprev = np.array([1.3,.6,-.5])\n",
    "f = np.array([0.8,0.1,0.9])\n",
    "i = np.array([0.3,0.7,0.6])\n",
    "Cprime = np.array([0.6,0.1,-0.3])\n",
    "o = np.array([0.2,0.1,0.7])\n",
    "C = Cprev*f+ i*Cprime\n",
    "h = tanh(C)*o\n",
    "print(C,h)"
   ]
  },
  {
   "cell_type": "markdown",
   "metadata": {
    "id": "qX_GgJP7hkrj"
   },
   "source": [
    "# BERT MLM for pretraining"
   ]
  },
  {
   "cell_type": "markdown",
   "metadata": {
    "id": "AzwsYYNtQpEt"
   },
   "source": [
    "## The attention mechanism\n",
    "### Question 2"
   ]
  },
  {
   "cell_type": "code",
   "execution_count": null,
   "metadata": {
    "colab": {
     "base_uri": "https://localhost:8080/",
     "height": 634
    },
    "id": "6jn68C9hO9cL",
    "outputId": "2f64696d-19fb-45e4-93bc-17e3cc6d884a"
   },
   "outputs": [
    {
     "name": "stdout",
     "output_type": "stream",
     "text": [
      "After applying self-attention once\n"
     ]
    },
    {
     "data": {
      "image/png": "[encoded data removed]",
      "text/plain": [
       "<Figure size 576x144 with 2 Axes>"
      ]
     },
     "metadata": {
      "needs_background": "light"
     },
     "output_type": "display_data"
    },
    {
     "name": "stdout",
     "output_type": "stream",
     "text": [
      "After applying self-attention twice\n"
     ]
    },
    {
     "data": {
      "image/png": "[encoded data removed]",
      "text/plain": [
       "<Figure size 576x144 with 2 Axes>"
      ]
     },
     "metadata": {
      "needs_background": "light"
     },
     "output_type": "display_data"
    },
    {
     "name": "stdout",
     "output_type": "stream",
     "text": [
      "After applying self-attention once\n"
     ]
    },
    {
     "data": {
      "image/png": "[encoded data removed]",
      "text/plain": [
       "<Figure size 576x144 with 2 Axes>"
      ]
     },
     "metadata": {
      "needs_background": "light"
     },
     "output_type": "display_data"
    },
    {
     "name": "stdout",
     "output_type": "stream",
     "text": [
      "After applying self-attention twice\n"
     ]
    },
    {
     "data": {
      "image/png": "[encoded data removed]",
      "text/plain": [
       "<Figure size 576x144 with 2 Axes>"
      ]
     },
     "metadata": {
      "needs_background": "light"
     },
     "output_type": "display_data"
    }
   ],
   "source": [
    "import matplotlib.pyplot as plt\n",
    "import numpy as np; np.random.seed(1)\n",
    "plt.rcParams[\"figure.figsize\"] = 8,2\n",
    "\n",
    "xaxis = np.array(range(0,9))\n",
    "extent = [xaxis[0]-(xaxis[1]-xaxis[0])/2., xaxis[-1]+(xaxis[1]-xaxis[0])/2.,0,1]\n",
    "\n",
    "s1 = \"Juventus lost from Ajax because they were too strong\".split(\" \")\n",
    "s2 = \"Juventus lost from Ajax because they were too weak\".split(\" \")\n",
    "reps1 = np.array([[1,0],[0,0],[0,0],[-1,0],[0,0],[0,1],[0,0],[0,0],[-1,1]]) # 9x2\n",
    "reps2 = np.array([[1,0],[0,0],[0,0],[-1,0],[0,0],[0,1],[0,0],[0,0],[1,1]]) #9x2\n",
    "\n",
    "Wk = np.array([[1,0],[0,1]])\n",
    "Wq = np.array([[1,0],[0,1]])\n",
    "Wv = np.array([[1,0],[0,1]])\n",
    "\n",
    "\n",
    "from fractions import Fraction\n",
    "def print_fracs(array):\n",
    "  print('\\r\\n'.join(['\\t'.join([str(Fraction(el).limit_denominator()) for el in row]) for row in array]))\n",
    "\n",
    "\n",
    "def softmax(x,axis=0):\n",
    "    \"\"\"Compute softmax values for each sets of scores in x.\"\"\"\n",
    "    return np.exp(x) / np.sum(np.exp(x), axis=axis)\n",
    "\n",
    "def attend(reps):\n",
    "  k = reps @ Wk # 9x2 x 2x2 = 9x2\n",
    "  q = reps @ Wq # 9x2 x 2x2 = 9x2\n",
    "  v = reps @ Wv # 9x2 x 2x2 = 9x2\n",
    "  scaler = np.sqrt(Wq.shape[1])\n",
    "  a = softmax((k @ q.transpose())/scaler)  # 9x2 x 2x9 = 9x9\n",
    "  o = a @ v  # 9x9 x 9x2 = 9x2\n",
    "  return a,o\n",
    "\n",
    "def mycmap(y):\n",
    "  plt.imshow(y[np.newaxis,:], cmap=\"plasma\", aspect=\"auto\", extent=extent)\n",
    "  plt.xticks(xaxis,s)\n",
    "  plt.yticks([.5],['they'])\n",
    "  plt.colorbar()\n",
    "  plt.tight_layout()\n",
    "  plt.show()\n",
    "\n",
    "\n",
    "for s,reps in zip((s1,s2),(reps1,reps2)):\n",
    "  a1,v1 = attend(reps)\n",
    "  a2,v2 = attend(v1)\n",
    "  print(\"After applying self-attention once\")\n",
    "  mycmap(a1[:,5])\n",
    "  print(\"After applying self-attention twice\")\n",
    "  mycmap(a2[:,5])\n"
   ]
  },
  {
   "cell_type": "markdown",
   "metadata": {
    "id": "vSkvp9qARFeY"
   },
   "source": [
    "## Multi-head self-attention\n",
    "### Question 3\n",
    "![](https://docs.google.com/drawings/d/e/2PACX-1vSFtIqh5XT-ON5Ic-oFfHk7VQh3Arvb0bxfiOUWtpm5TT-R6U0WBY8WuoN3DpTMb8qZeYqcezDwHt21/pub?w=1859&h=744)"
   ]
  },
  {
   "cell_type": "markdown",
   "metadata": {
    "id": "AHtknoOhR6aJ"
   },
   "source": [
    "## Pretraining, freezing and finetuning"
   ]
  },
  {
   "cell_type": "markdown",
   "metadata": {
    "id": "CP7nXZl1SCiO"
   },
   "source": [
    "### Question 4\n",
    "We call these objectives 'self-supervised' because the ground-truth labels that need to be guessed by the pretraining objective are provided without human labelers.\n",
    "For example, we can let the model mask random words in text, and have it then try to guess what is behind the mask.\n",
    "The benefit is that it is much cheaper to generate input-target_label combos, and hence we will be able to generate many more than if we were to need manual labeling."
   ]
  },
  {
   "cell_type": "markdown",
   "metadata": {
    "id": "Z2KkkoTJUgof"
   },
   "source": [
    "### Question 5\n",
    "You can leverage the unlabeled tweets by training a model that tries to solve a self-supervised task (such as Language Modelling), and subsequently reusing part of those trained parameters when you start trainnig on the target task (sentiment classification)."
   ]
  },
  {
   "cell_type": "markdown",
   "metadata": {
    "id": "u3H1EeZfU4bk"
   },
   "source": [
    "### Question 6\n",
    "The answer looks like the image below.\n",
    "Note that this is a coarse-grained view: 'frozen' means freezing every pretrained layer, and 'finetuning' means freezing none of them. In reality, there are levels between this: you could e.g., freeze only the embedder, or the embedder and part of the encoder stack.\n",
    "\n",
    "The advantage of freezing layers, is that it avoids 'catastrophic forgetting': when training on the target task for the first time, the gradient sizes will be quite big (because you will be quite bad at the start), possibly even so big that you forget some useful information you had stored during pretraining.\n",
    "\n",
    "An approach taken sometimes is to freeze layers for a while, and only finetune when the target-task-specific layers haven been trained for a while.\n",
    "\n",
    "![](https://docs.google.com/drawings/d/e/2PACX-1vQ18snkdsc4h6hgu1euNXpdbRBCMjYjjEf1H06wQ0jF1UYWWmCswqH5iksx1GxEycCaLlGj8ArRGfdx/pub?w=1441&h=645)"
   ]
  }
 ],
 "metadata": {
  "colab": {
   "collapsed_sections": [],
   "name": "ex2_answers.ipynb",
   "provenance": [],
   "toc_visible": true
  },
  "kernelspec": {
   "display_name": "Python 3 (ipykernel)",
   "language": "python",
   "name": "python3"
  },
  "language_info": {
   "codemirror_mode": {
    "name": "ipython",
    "version": 3
   },
   "file_extension": ".py",
   "mimetype": "text/x-python",
   "name": "python",
   "nbconvert_exporter": "python",
   "pygments_lexer": "ipython3",
   "version": "3.9.12"
  }
 },
 "nbformat": 4,
 "nbformat_minor": 1
}
