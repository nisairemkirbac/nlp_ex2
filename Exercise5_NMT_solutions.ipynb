{
 "cells": [
  {
   "cell_type": "code",
   "execution_count": null,
   "metadata": {
    "colab": {
     "base_uri": "https://localhost:8080/"
    },
    "executionInfo": {
     "elapsed": 1969,
     "status": "ok",
     "timestamp": 1638376863653,
     "user": {
      "displayName": "Victor Milewski",
      "photoUrl": "https://lh3.googleusercontent.com/a-/AOh14GiN8ATR8MBxA3DRxgsWRfETNmC5Ng4t-z_MXil1pw=s64",
      "userId": "00980338011929053842"
     },
     "user_tz": -60
    },
    "id": "cxwEEfyxRWjs",
    "outputId": "5d1986bf-ed80-468c-839d-8fd06b7cf92e"
   },
   "outputs": [
    {
     "name": "stdout",
     "output_type": "stream",
     "text": [
      "[nltk_data] Downloading package punkt to /root/nltk_data...\n",
      "[nltk_data]   Package punkt is already up-to-date!\n"
     ]
    }
   ],
   "source": [
    "import torch\n",
    "from torch import nn\n",
    "from torch.utils.data import DataLoader, Dataset\n",
    "import nltk\n",
    "from nltk.tokenize import word_tokenize\n",
    "nltk.download('punkt')\n",
    "device = torch.device(\"cuda\" if torch.cuda.is_available() else \"cpu\")"
   ]
  },
  {
   "cell_type": "markdown",
   "metadata": {
    "id": "tXtRS68TU-ZR"
   },
   "source": [
    "### Preparing Data\n",
    "\n",
    "We provided you with a dataset that is an extract from the bible. It is a parallel dataset for the Cherokee and English language. Cherokee will be the source language, and English the target language. \n",
    "\n",
    "I put the data in a data.zip, which we will open and process now. \n",
    "\n",
    "**LOCAL NOTEBOOK:**\n",
    "If you are opening this in a jupyter notebook, just make sure the zip is in the same directory. Skip the following cells till the next text block.\n",
    "\n",
    "**GOOGLE COLAB:**\n",
    "Are you working in a google colab, you need to give acces to google drive where you can put the zip with data. Run the following cells and follow the instructions."
   ]
  },
  {
   "cell_type": "code",
   "execution_count": null,
   "metadata": {
    "colab": {
     "base_uri": "https://localhost:8080/"
    },
    "executionInfo": {
     "elapsed": 29,
     "status": "ok",
     "timestamp": 1638376863654,
     "user": {
      "displayName": "Victor Milewski",
      "photoUrl": "https://lh3.googleusercontent.com/a-/AOh14GiN8ATR8MBxA3DRxgsWRfETNmC5Ng4t-z_MXil1pw=s64",
      "userId": "00980338011929053842"
     },
     "user_tz": -60
    },
    "id": "u-5GPL62S0aT",
    "outputId": "95e90327-46dd-4b1d-858d-0b6ce97b96b0"
   },
   "outputs": [
    {
     "name": "stdout",
     "output_type": "stream",
     "text": [
      "Drive already mounted at /content/drive; to attempt to forcibly remount, call drive.mount(\"/content/drive\", force_remount=True).\n"
     ]
    }
   ],
   "source": [
    "from google.colab import drive\n",
    "drive.mount('/content/drive')"
   ]
  },
  {
   "cell_type": "code",
   "execution_count": null,
   "metadata": {
    "colab": {
     "base_uri": "https://localhost:8080/"
    },
    "executionInfo": {
     "elapsed": 20,
     "status": "ok",
     "timestamp": 1638376863655,
     "user": {
      "displayName": "Victor Milewski",
      "photoUrl": "https://lh3.googleusercontent.com/a-/AOh14GiN8ATR8MBxA3DRxgsWRfETNmC5Ng4t-z_MXil1pw=s64",
      "userId": "00980338011929053842"
     },
     "user_tz": -60
    },
    "id": "clqUtWvyViOY",
    "outputId": "57c2644c-37dd-4e1c-a764-a15f5c19887a"
   },
   "outputs": [
    {
     "name": "stdout",
     "output_type": "stream",
     "text": [
      "cp: cannot stat 'drive/MyDrive/1 PhD/Teaching/NLP TA/NLP 2021-2022/Exercises/General_Track/exercise5_machine_translation/data.zip': No such file or directory\n"
     ]
    }
   ],
   "source": [
    "# MAKE SURE TO CHANGE THE PATH IN YOUR GOOGLE DRIVE TO THE DATAFILE. \n",
    "# !cp drive/MyDrive/[path to data in your personal google drive]/data.zip .\n",
    "# !cp 'drive/MyDrive/KULEUVEN/teaching/NLP/NLP 2021-2022/Exercises/General_Track/exercise5_machine_translation/data.zip' .\n",
    "!cp 'drive/MyDrive/1 PhD/Teaching/NLP TA/NLP 2021-2022/Exercises/General_Track/exercise5_machine_translation/data.zip' ."
   ]
  },
  {
   "cell_type": "markdown",
   "metadata": {
    "id": "50oLCpAvWhVE"
   },
   "source": [
    "Let us unzip the data.zip file and have a look at what some of the data looks like."
   ]
  },
  {
   "cell_type": "code",
   "execution_count": null,
   "metadata": {
    "colab": {
     "base_uri": "https://localhost:8080/"
    },
    "executionInfo": {
     "elapsed": 54322,
     "status": "ok",
     "timestamp": 1638376917967,
     "user": {
      "displayName": "Victor Milewski",
      "photoUrl": "https://lh3.googleusercontent.com/a-/AOh14GiN8ATR8MBxA3DRxgsWRfETNmC5Ng4t-z_MXil1pw=s64",
      "userId": "00980338011929053842"
     },
     "user_tz": -60
    },
    "id": "YMI8CcU4VwK9",
    "outputId": "067bb72c-3e0a-4a8f-bc9c-c16e31447740"
   },
   "outputs": [
    {
     "name": "stdout",
     "output_type": "stream",
     "text": [
      "Archive:  data.zip\n",
      "replace chr_en_data/dev.chr? [y]es, [n]o, [A]ll, [N]one, [r]ename: N\n",
      "total 4516\n",
      "-rw-r--r-- 1 root root  156015 Feb  2  2021 dev.chr\n",
      "-rw-r--r-- 1 root root   98456 Feb  2  2021 dev.en\n",
      "-rw-r--r-- 1 root root  157759 Feb  2  2021 test.chr\n",
      "-rw-r--r-- 1 root root  100893 Feb  2  2021 test.en\n",
      "-rw-r--r-- 1 root root     213 Dec  1 16:25 tiny_dev.chr\n",
      "-rw-r--r-- 1 root root     115 Dec  1 16:25 tiny_dev.en\n",
      "-rw-r--r-- 1 root root    2506 Dec  1 16:25 tiny_train.chr\n",
      "-rw-r--r-- 1 root root    1683 Dec  1 16:25 tiny_train.en\n",
      "-rw-r--r-- 1 root root 2497276 Feb  2  2021 train.chr\n",
      "-rw-r--r-- 1 root root 1581843 Feb  2  2021 train.en\n"
     ]
    }
   ],
   "source": [
    "!unzip data.zip\n",
    "!ls -l chr_en_data"
   ]
  },
  {
   "cell_type": "markdown",
   "metadata": {
    "id": "a__CwEdfW44y"
   },
   "source": [
    "Okay, so we have a training, a development, and a test split. Let's look inside one of the files.\n",
    "\n",
    "---\n",
    "first english:"
   ]
  },
  {
   "cell_type": "code",
   "execution_count": null,
   "metadata": {
    "colab": {
     "base_uri": "https://localhost:8080/"
    },
    "executionInfo": {
     "elapsed": 31,
     "status": "ok",
     "timestamp": 1638376917968,
     "user": {
      "displayName": "Victor Milewski",
      "photoUrl": "https://lh3.googleusercontent.com/a-/AOh14GiN8ATR8MBxA3DRxgsWRfETNmC5Ng4t-z_MXil1pw=s64",
      "userId": "00980338011929053842"
     },
     "user_tz": -60
    },
    "id": "xCYdqH-lW7zq",
    "outputId": "93697bfc-290f-467d-96b6-a8211da345e0"
   },
   "outputs": [
    {
     "name": "stdout",
     "output_type": "stream",
     "text": [
      "Paul, and Silvanus, and Timothy, unto the church of the Thessalonians in God our Father and the Lord Jesus Christ;\n",
      "\n",
      "And when the multitudes heard it, they were astonished at his teaching.\n",
      "\n",
      "After these things I saw another angel coming down out of heaven, having great authority; and the earth was lightened with his glory.\n",
      "\n",
      "And this is the sign unto you: Ye shall find a babe wrapped in swaddling clothes, and lying in a manger.\n",
      "\n",
      "He could hardly believe what he was seeing, and although he detested flies, he was sorry for this one.\n",
      "\n",
      "And he entered into Jerusalem, into the temple; and when he had looked round about upon all things, it being now eventide, he went out unto Bethany with the twelve.\n",
      "\n",
      "And for our relentless searching, two weeks of it, all we found was one old man, nearly blind and living alone, who said his name was Hog Meat and that he was nearly a hundred years old.\n",
      "\n"
     ]
    }
   ],
   "source": [
    "with open('chr_en_data/dev.en','r') as f:\n",
    "    for i,l in enumerate(f):\n",
    "        if i > 6:\n",
    "            break\n",
    "        print(l)"
   ]
  },
  {
   "cell_type": "markdown",
   "metadata": {
    "id": "JO-Vwy6UW4-q"
   },
   "source": [
    "and cherokee:"
   ]
  },
  {
   "cell_type": "code",
   "execution_count": null,
   "metadata": {
    "colab": {
     "base_uri": "https://localhost:8080/"
    },
    "executionInfo": {
     "elapsed": 23,
     "status": "ok",
     "timestamp": 1638376917969,
     "user": {
      "displayName": "Victor Milewski",
      "photoUrl": "https://lh3.googleusercontent.com/a-/AOh14GiN8ATR8MBxA3DRxgsWRfETNmC5Ng4t-z_MXil1pw=s64",
      "userId": "00980338011929053842"
     },
     "user_tz": -60
    },
    "id": "FiX_yocgWYBV",
    "outputId": "75be2bda-ebc8-4204-f603-32fe47e04bf5"
   },
   "outputs": [
    {
     "name": "stdout",
     "output_type": "stream",
     "text": [
      "ᏉᎳ, ᎠᎴ ᏌᏱᎳ, ᎠᎴ ᏗᎹᏗ, ᏫᏨᏲᏪᎳᏏ ᏗᏣᏁᎶᏗ ᎢᏣᏓᏡᎬ ᏕᏏᎶᏂᎦ ᎢᏤᎯ ᎤᏁᎳᏅᎯ ᎢᎩᏙᏓ ᎠᎴ ᎤᎬᏫᏳᎯ ᏥᏌ ᎦᎶᏁᏛ ᏕᏣᏁᎶᏛᎢ.\n",
      "\n",
      "ᎤᏂᏣᏘᏃ ᎤᎾᏛᎦᏅ ᎤᏂᏍᏆᏂᎪᏒᎩ ᏄᏍᏛ ᏓᏕᏲᎲᏍᎬᎢ.\n",
      "\n",
      "ᎾᏍᎩᏃ ᎯᎠ ᏄᎵᏍᏔᏂᏙᎸ ᏅᏩᏓᎴ ᏗᎧᎿᏩᏗᏙᎯ ᎥᏥᎪᎥᎩ ᎦᎸᎳᏗ ᏓᏳᏠᎠᏒᎩ, ᎤᏣᏘ ᎤᎵᏂᎩᏛ ᎨᏒᎩ; ᎾᏍᎩᏃ ᎤᏤᎵ ᎦᎸᏉᏗᏳ ᎨᏒ ᎡᎶᎯ ᎢᎦ ᎤᏘᏍᏔᏅᎩ.\n",
      "\n",
      "ᎯᎠᏃ ᎾᏍᎩ ᎢᏣᏙᎯᎱᎯᏍᏙ ᎨᏎᏍᏗ; Ꮣ ᏰᏥᏩᏛᎯ ᎠᏲᎵ ᎠᏥᏣᏄᎴᏍᏗ, ᏐᏈᎵ ᎤᎾᎵᏍᏓᏴᏗᏱ ᎦᏅᎨᏍᏗ.\n",
      "\n",
      "ᎨᏍᏗ ᏳᏬᎯᏳᎮ ᏄᏍᏛ ᎠᎪᏩᏘᏍᎬ, ᎠᏎᏃ ᎤᏙᎯᏳ ᏕᎦᏁᎵᏍᎨ ᏛᎦ, ᎦᏙᎵᎨ ᏍᎩᎾᎾ.\n",
      "\n",
      "ᏥᏌᏃ ᏣᎷᏏᎵᎻ ᏭᏴᎴᎢ, ᎠᎴ ᎤᏔᏅ-ᏗᎦᎳᏫᎢᏍᏗᏱ ᏭᏴᎴᎢ; ᎿᏉᏃ ᎬᏩᏚᏫᏛ ᏚᎧᎿᏂᏙᎸ ᏂᎦᏛ ᏧᏓᎴᏅᏛ ᏚᎧᎿᏅ, ᎠᎴ ᎿᏉ ᎤᏒᎯᏴᏱ ᎨᏎᎢ, ᎤᏄᎪᏤ ᏇᏗᏂᏱ ᏭᎶᏎ ᎠᏁᎮ ᏔᎳᏚ ᎢᏯᏂᏛ.\n",
      "\n",
      "ᏔᎵ ᎢᏳᎾᏙᏓᏆᏍᏗ ᏙᏥᎭᏲᎲ, ᏐᏉ ᎣᏥᏩᏛᎲ ᎤᏛᏐᏅ ᎾᎥᏂ ᏗᎨᏫ ᏃᎴ ᎤᏩᏌ ᎦᏂᎩᎸ, ᏏᏆ ᎭᏫᏯ ᏧᏙᎢᏓ ᎤᏛᏅ ᏃᎴ ᎾᎥᏂ ᏍᎪᎯᏍᏆ ᎢᏳᏕᏘᏴᏓ.\n",
      "\n"
     ]
    }
   ],
   "source": [
    "with open('chr_en_data/dev.chr','r') as f:\n",
    "    for i,l in enumerate(f):\n",
    "        if i > 6:\n",
    "            break\n",
    "        print(l)"
   ]
  },
  {
   "cell_type": "code",
   "execution_count": null,
   "metadata": {
    "colab": {
     "base_uri": "https://localhost:8080/"
    },
    "executionInfo": {
     "elapsed": 17,
     "status": "ok",
     "timestamp": 1638376917969,
     "user": {
      "displayName": "Victor Milewski",
      "photoUrl": "https://lh3.googleusercontent.com/a-/AOh14GiN8ATR8MBxA3DRxgsWRfETNmC5Ng4t-z_MXil1pw=s64",
      "userId": "00980338011929053842"
     },
     "user_tz": -60
    },
    "id": "WI3bZ6y22cJE",
    "outputId": "aed0dbd0-0054-4b0b-eed4-ed37c32d92bc"
   },
   "outputs": [
    {
     "name": "stdout",
     "output_type": "stream",
     "text": [
      "File chr_en_data/train.chr has 14855 lines\n",
      "File chr_en_data/test.chr has 1000 lines\n",
      "File chr_en_data/dev.chr has 1000 lines\n",
      "File chr_en_data/train.en has 14855 lines\n",
      "File chr_en_data/test.en has 1000 lines\n",
      "File chr_en_data/dev.en has 1000 lines\n"
     ]
    }
   ],
   "source": [
    "for lan in ['chr','en']:\n",
    "  for split in ['train','test','dev']:\n",
    "    f = f'chr_en_data/{split}.{lan}'\n",
    "    num_lines = sum(1 for line in open(f,'r'))\n",
    "    print(f'File {f} has {num_lines} lines')"
   ]
  },
  {
   "cell_type": "markdown",
   "metadata": {
    "id": "Ftv_FHWeS0rY"
   },
   "source": [
    "### Tiny dataset\n",
    "\n",
    "To get quick visualisations, we simplify the dataset by making a tiny one. \n",
    "The 'head' command extracts the first -n = 20 lines from the file."
   ]
  },
  {
   "cell_type": "code",
   "execution_count": null,
   "metadata": {
    "id": "wMRDL7KpTCub"
   },
   "outputs": [],
   "source": [
    "!head -n 20 chr_en_data/train.en > chr_en_data/tiny_train.en\n",
    "!head -n 20 chr_en_data/train.chr > chr_en_data/tiny_train.chr\n",
    "!head -n 1 chr_en_data/dev.en > chr_en_data/tiny_dev.en\n",
    "!head -n 1 chr_en_data/dev.chr > chr_en_data/tiny_dev.chr"
   ]
  },
  {
   "cell_type": "code",
   "execution_count": null,
   "metadata": {
    "colab": {
     "base_uri": "https://localhost:8080/"
    },
    "executionInfo": {
     "elapsed": 40,
     "status": "ok",
     "timestamp": 1638376918894,
     "user": {
      "displayName": "Victor Milewski",
      "photoUrl": "https://lh3.googleusercontent.com/a-/AOh14GiN8ATR8MBxA3DRxgsWRfETNmC5Ng4t-z_MXil1pw=s64",
      "userId": "00980338011929053842"
     },
     "user_tz": -60
    },
    "id": "y834RXxrUEEp",
    "outputId": "982234f7-5ed5-402d-ffcb-f68b400ceda5"
   },
   "outputs": [
    {
     "name": "stdout",
     "output_type": "stream",
     "text": [
      "total 4516\n",
      "-rw-r--r-- 1 root root  156015 Feb  2  2021 dev.chr\n",
      "-rw-r--r-- 1 root root   98456 Feb  2  2021 dev.en\n",
      "-rw-r--r-- 1 root root  157759 Feb  2  2021 test.chr\n",
      "-rw-r--r-- 1 root root  100893 Feb  2  2021 test.en\n",
      "-rw-r--r-- 1 root root     213 Dec  1 16:41 tiny_dev.chr\n",
      "-rw-r--r-- 1 root root     115 Dec  1 16:41 tiny_dev.en\n",
      "-rw-r--r-- 1 root root    2506 Dec  1 16:41 tiny_train.chr\n",
      "-rw-r--r-- 1 root root    1683 Dec  1 16:41 tiny_train.en\n",
      "-rw-r--r-- 1 root root 2497276 Feb  2  2021 train.chr\n",
      "-rw-r--r-- 1 root root 1581843 Feb  2  2021 train.en\n",
      "ᏉᎳ, ᎠᎴ ᏌᏱᎳ, ᎠᎴ ᏗᎹᏗ, ᏫᏨᏲᏪᎳᏏ ᏗᏣᏁᎶᏗ ᎢᏣᏓᏡᎬ ᏕᏏᎶᏂᎦ ᎢᏤᎯ ᎤᏁᎳᏅᎯ ᎢᎩᏙᏓ ᎠᎴ ᎤᎬᏫᏳᎯ ᏥᏌ ᎦᎶᏁᏛ ᏕᏣᏁᎶᏛᎢ.\n"
     ]
    }
   ],
   "source": [
    "!ls -l chr_en_data/\n",
    "!cat chr_en_data/tiny_dev.chr"
   ]
  },
  {
   "cell_type": "markdown",
   "metadata": {
    "id": "Ic-HUwq9XkvL"
   },
   "source": [
    "# Preparing the data\n",
    "\n",
    "We need to make sure we have a dataset and a dataloader, so we can iterate over the data.\n",
    "\n",
    "We also need to define the vocabularies."
   ]
  },
  {
   "cell_type": "markdown",
   "metadata": {
    "id": "1FtsLBnVRsBG"
   },
   "source": [
    "### Language vocab"
   ]
  },
  {
   "cell_type": "markdown",
   "metadata": {
    "id": "P5PA_QfJWEJJ"
   },
   "source": [
    "We create a very simplistic vocabulary. We just add all the words in our dataset. \n",
    "\n",
    "Normally, we make sure there is an Unkown token, and only keep the K most common tokens.  We can choose K depending on our data."
   ]
  },
  {
   "cell_type": "code",
   "execution_count": null,
   "metadata": {
    "id": "dXrIib40Ru6o"
   },
   "outputs": [],
   "source": [
    "class SimpleVocab:\n",
    "    def __init__(self, name):\n",
    "        self.name = name\n",
    "        self.word2index = {}\n",
    "        self.word2count = {}\n",
    "        self.index2word = {0: \"SOS\", 1: \"EOS\"}\n",
    "        self.sos_idx = 0\n",
    "        self.eos_idx = 1\n",
    "        self.n_words = 2  # Count SOS and EOS\n",
    "\n",
    "    def add_sentence(self, sentence):\n",
    "        for word in word_tokenize(sentence):\n",
    "            self.add_word(word)\n",
    "\n",
    "    def add_word(self, word):\n",
    "        if word not in self.word2index:\n",
    "            self.word2index[word] = self.n_words\n",
    "            self.word2count[word] = 1\n",
    "            self.index2word[self.n_words] = word\n",
    "            self.n_words += 1\n",
    "        else:\n",
    "            self.word2count[word] += 1"
   ]
  },
  {
   "cell_type": "markdown",
   "metadata": {
    "id": "qwa_lqK0UcFN"
   },
   "source": [
    "Now lets quickly read the tiny datasets into our vocabulary. To avoid unknown tokens, we also add the dev set to our tiny vocabulary. \n",
    "\n",
    "**Note: Usually you wouldn't do this!**"
   ]
  },
  {
   "cell_type": "code",
   "execution_count": null,
   "metadata": {
    "colab": {
     "base_uri": "https://localhost:8080/"
    },
    "executionInfo": {
     "elapsed": 25,
     "status": "ok",
     "timestamp": 1638376918895,
     "user": {
      "displayName": "Victor Milewski",
      "photoUrl": "https://lh3.googleusercontent.com/a-/AOh14GiN8ATR8MBxA3DRxgsWRfETNmC5Ng4t-z_MXil1pw=s64",
      "userId": "00980338011929053842"
     },
     "user_tz": -60
    },
    "id": "nCE8v7fgUbf1",
    "outputId": "0715b48d-5c61-489a-d7db-09b551e0d8a5"
   },
   "outputs": [
    {
     "name": "stdout",
     "output_type": "stream",
     "text": [
      "{0: 'SOS', 1: 'EOS', 2: 'and', 3: 'by', 4: 'him', 5: 'every', 6: 'one', 7: 'that', 8: 'believeth', 9: 'is', 10: 'justified', 11: 'from', 12: 'all', 13: 'things', 14: ',', 15: 'which', 16: 'ye', 17: 'could', 18: 'not', 19: 'be', 20: 'the', 21: 'law', 22: 'of', 23: 'Moses', 24: '.', 25: 'When', 26: 'he', 27: 'was', 28: 'done', 29: 'with', 30: 'body', 31: 'held', 32: 'head', 33: 'in', 34: 'his', 35: 'mouth', 36: 'sucked', 37: 'until', 38: 'it', 39: 'no', 40: 'more', 41: 'flavor', 42: 'than', 43: 'own', 44: 'spit', 45: 'But', 46: 'each', 47: 'order', 48: ':', 49: 'Christ', 50: 'firstfruits', 51: ';', 52: 'then', 53: 'they', 54: 'are', 55: '’', 56: 's', 57: 'at', 58: 'coming', 59: 'His', 60: 'a', 61: 'strange', 62: 'homecoming', 63: 'So', 64: 'chief', 65: 'captain', 66: 'let', 67: 'young', 68: 'man', 69: 'go', 70: 'charging', 71: 'Tell', 72: 'thou', 73: 'hast', 74: 'signified', 75: 'these', 76: 'to', 77: 'me', 78: 'He', 79: 'picked', 80: 'letter', 81: 'up', 82: 'again', 83: 'studied', 84: 'signature', 85: 'said', 86: 'Major', 87: 'Cotton', 88: 'And', 89: 'seek', 90: 'what', 91: 'shall', 92: 'eat', 93: 'drink', 94: 'neither', 95: 'doubtful', 96: 'mind', 97: 'Wilbur', 98: 'trembled', 99: 'over', 100: 'when', 101: 'saw', 102: 'arose', 103: 'thence', 104: 'cometh', 105: 'into', 106: 'borders', 107: 'Judæa', 108: 'beyond', 109: 'Jordan', 110: 'multitudes', 111: 'come', 112: 'together', 113: 'unto', 114: 'as', 115: 'wont', 116: 'taught', 117: 'them', 118: 'Surely', 119: 'some', 120: 'have', 121: 'superior', 122: 'features', 123: 'The', 124: 'Fair', 125: 'Grounds', 126: 'were', 127: 'soon', 128: 'deserted', 129: 'do', 130: 'good', 131: 'rich', 132: 'works', 133: 'ready', 134: 'distribute', 135: 'willing', 136: 'communicate', 137: 'There', 138: 'many', 139: 'complaints', 140: 'about', 141: 'awful', 142: 'smell', 143: 'had', 144: 'tell', 145: 'story', 146: 'how', 147: 'Arable', 148: 'boy', 149: 'tried', 150: 'capture', 151: 'Charlotte', 152: 'broken', 153: 'egg', 154: 'drove', 155: 'away', 156: 'just', 157: 'time', 158: 'Is', 159: 'divided', 160: '?', 161: 'Paul', 162: 'crucified', 163: 'for', 164: 'you', 165: 'or', 166: 'baptized', 167: 'name', 168: 'As', 169: 'watched', 170: 'spider', 171: 'fence', 172: 'rose', 173: 'air', 174: 'crowd', 175: 'cheered', 176: 'Since', 177: 'world', 178: 'began', 179: 'never', 180: 'heard', 181: 'any', 182: 'opened', 183: 'eyes', 184: 'born', 185: 'blind', 186: '“', 187: 'I', 188: 'm', 189: 'seeing', 190: '”', 191: 'whispered', 192: 'her', 193: 'Thy', 194: 'sins', 195: 'forgiven', 196: 'now', 197: 'sleep', 198: 'Silvanus', 199: 'Timothy', 200: 'church', 201: 'Thessalonians', 202: 'God', 203: 'our', 204: 'Father', 205: 'Lord', 206: 'Jesus'}\n",
      "{0: 'SOS', 1: 'EOS', 2: 'ᎠᎴ', 3: 'ᎾᏍᎩ', 4: 'ᏅᏗᎦᎵᏍᏙᏗᎭ', 5: 'ᏂᎦᏛ', 6: 'ᎠᏃᎯᏳᎲᏍᎩ', 7: 'ᎠᎾᏚᏓᎴᎭ', 8: 'ᏂᎦᎥ', 9: 'ᏧᏓᎴᏅᏛ', 10: ',', 11: 'ᎨᏣᏚᏓᎳᎡᏗ', 12: 'ᏂᎨᏒᎾ', 13: 'ᏥᎨᏒ', 14: 'ᎼᏏ', 15: 'ᎤᏤᎵ', 16: 'ᏗᎧᎿᏩᏛᏍᏗ', 17: 'ᏕᏥᎧᎿᏩᏗᏒ', 18: 'ᎢᏳᏍᏗ', 19: '.', 20: 'ᎤᏯᎪᏅ', 21: 'ᎠᏰᎸᎢ', 22: 'ᎠᏍᎪᎵ', 23: 'ᎤᏍᏆᏄᏤ', 24: 'ᎫᏕᎶᎰᎯᏍᏗ', 25: 'ᏄᏍᏛ', 26: 'ᎢᎪᎯᏛ', 27: 'ᏩᏥᎳᏉ', 28: 'ᎠᏎᏃ', 29: 'ᎾᏂᎥ', 30: 'ᎤᎾᏤᎵᏛᎭ', 31: ';', 32: 'ᎦᎶᏁᏛ', 33: 'ᏧᏓᎴᏅᏔᏅᎯ', 34: 'ᎣᏂᏃ', 35: 'ᎾᎦᎶᏁᏛ', 36: 'ᏧᏤᎵ', 37: 'ᎨᏒ', 38: 'ᎾᎯᏳ', 39: 'ᎦᎷᏨᎭ', 40: 'ᎤᏓᎴᏨ', 41: 'ᎨᏎ', 42: 'ᎱᎷᏨᎢ', 43: 'ᎾᏍᎩᏃ', 44: 'ᏄᎬᏫᏳᏒ', 45: 'ᏗᏓᏘᏂᏙᎯ', 46: 'ᎤᏪᎧᏅᎩ', 47: 'ᎠᏫᏅ', 48: 'ᎠᏁᏤᎸᎩ', 49: 'ᎯᎠ', 50: 'ᏄᏪᏎᎸᎩ', 51: 'ᏞᏍᏗ', 52: 'ᎩᎶ', 53: 'ᎯᏃᏁᎸ', 54: 'ᎬᏂᎨᏒ', 55: 'ᏂᏍᏋᏁᎸᎢ', 56: 'ᏭᏌᎩᏒ', 57: 'ᎪᏪᎵ', 58: 'ᎣᏍᏓ', 59: 'ᎤᎪᎵᏰᎥ', 60: 'ᎠᏍᏓᏱᏛ', 61: 'ᏔᎵᏁ', 62: 'ᏄᏪᏒ', 63: 'ᎦᎸᎳᏗ', 64: 'ᎠᏓᏅᏖᎵᏙ', 65: 'ᎤᏥᎸ', 66: 'ᏂᎯ', 67: 'ᏱᏥᏲᎮᏍᏗ', 68: 'ᎢᏣᎵᏍᏓᏴᏗᏱ', 69: 'ᎢᏣᏗᏔᏍᏗᏱ', 70: 'ᏧᏢᏫᏛ', 71: 'ᏱᏂᏚᏍᏕᏍᏗ', 72: 'ᏕᏣᏓᏅᏛᎢ', 73: 'ᎤᏩᏃᏪ', 74: 'ᏫᎵᎻ', 75: 'ᎤᎪᎭ', 76: 'ᎾᎿᏃ', 77: 'ᏚᎴᏅ', 78: 'ᏧᏗᏱ', 79: 'ᎦᏓ', 80: 'ᎠᎲᎢ', 81: 'ᎤᎷᏤᎢ', 82: 'ᏦᏓᏂ', 83: 'ᎠᏍᎪᏂᏗᏢ', 84: 'ᏧᎶᎯᏍᏔᏁᎢ', 85: 'ᎤᏂᏣᏘ', 86: 'ᏴᏫ', 87: 'ᎢᎬᏩᏓᏟᏌᏁᎴᎢ', 88: 'ᎢᏳᏛᏁᏗ', 89: 'ᏄᏛᏁᎴᎢ', 90: 'ᏚᏪᏲᏁᎢ', 91: 'ᏣᏍᎪᏃ', 92: 'ᎢᎦᏓ', 93: 'ᏦᎯᏍᏙᏗ', 94: 'ᏱᎩ', 95: 'ᎤᏏᏩ', 96: 'ᎨᏎᎢ', 97: 'ᎤᎾᏓᎪᎾᏙᏗ', 98: 'ᎣᏍᏛ', 99: 'ᎾᎾᏛᏁᎮᏍᏗ', 100: 'ᎤᏁᎿᎢᏳ', 101: 'ᎨᏎᏍᏗ', 102: 'ᎾᎾᏛᏁᎲᎢ', 103: 'ᎠᏂᎦᎵᏰᏍᏗ', 104: 'ᎤᎾᏓᏁᏗᏱ', 105: 'ᎠᏂᏯᏙᎯᎯ', 106: 'ᎤᏂᎲᎢ', 107: 'ᎠᎦᏗᏓ', 108: 'ᏚᎾᏓᏚᎯᏍᏕᎢ', 109: 'ᎤᏲ', 110: 'ᎠᏒᎬ', 111: 'ᏃᎴ', 112: 'ᎤᏩᎬᏘᎶᏓ', 113: 'ᎤᏃᎮᎴ', 114: 'ᏄᎵᏍᏔᏁᎸ', 115: 'ᎡᎳᏆᏗ', 116: 'ᎤᏁᎸᏔᏅ', 117: 'ᎤᏂᏴᏗ', 118: 'ᏌᎳᏓ', 119: 'ᎤᏪᏥ', 120: 'ᎤᎪᏏᏓ', 121: 'ᎤᏲᏨ', 122: 'ᎤᎨᎯᏙᎸ', 123: 'ᎢᎸᏍᎩᏍᎪ', 124: 'ᎢᏯᏥᏛᎯ', 125: '?', 126: 'ᏉᎳᏍᎪ', 127: 'ᏓᏓᎿᏩᏍᏛ', 128: 'ᎠᎦᏛᏁ', 129: 'ᎢᏥᏍᏕᎸᏗᏱ', 130: 'ᎠᎴᏍᎪ', 131: 'ᏉᎳ', 132: 'ᏚᏙᎥ', 133: 'ᏕᏣᏬᏍᏔᏁᎢ', 134: 'ᎤᎦᏙᏍᏛᎢ', 135: 'ᏚᏲᏎ', 136: 'ᎠᏦᏴᎢ', 137: 'ᎤᎵᏌᎵᏓᏁᎢ', 138: 'ᎤᏁᎷᏁᎢ', 139: 'ᎤᎾᏓᏓᏍᎩ', 140: 'ᎡᎶᎯ', 141: 'ᏧᏙᏢᏅ', 142: 'ᏅᏓᎬᏩᏓᎴᏅᏛ', 143: 'ᎥᏝ', 144: 'ᏱᎨᎦᏛᎦᏃ', 145: 'ᏚᏍᏚᎢᎡᎸ', 146: 'ᏗᎦᏙᎵ', 147: 'ᏗᎨᏫ', 148: 'ᎤᏕᏅᎯ', 149: '”', 150: 'ᎪᎱᏍᏗ', 151: 'ᏕᏥᎪᏩᏘᎭ', 152: 'ᎤᏛᏁ', 153: 'ᎠᏝᏪᎯ', 154: 'ᎯᎠᏃ', 155: 'ᏄᏪᏎᎴ', 156: 'ᎠᎨᏴ', 157: 'ᏣᏍᎦᏅᏨ', 158: 'ᎡᏣᏙᎵᎩ', 159: 'ᏃᏉᏗ', 160: 'ᎯᏢᎾ', 161: 'ᏌᏱᎳ', 162: 'ᏗᎹᏗ', 163: 'ᏫᏨᏲᏪᎳᏏ', 164: 'ᏗᏣᏁᎶᏗ', 165: 'ᎢᏣᏓᏡᎬ', 166: 'ᏕᏏᎶᏂᎦ', 167: 'ᎢᏤᎯ', 168: 'ᎤᏁᎳᏅᎯ', 169: 'ᎢᎩᏙᏓ', 170: 'ᎤᎬᏫᏳᎯ', 171: 'ᏥᏌ', 172: 'ᏕᏣᏁᎶᏛᎢ'}\n"
     ]
    }
   ],
   "source": [
    "chr_vocab = SimpleVocab('chr')\n",
    "en_vocab = SimpleVocab('en')\n",
    "# first the cherokee data\n",
    "with open('chr_en_data/tiny_train.chr','r') as f:\n",
    "    for sent in f:\n",
    "        chr_vocab.add_sentence(sent)\n",
    "with open('chr_en_data/tiny_dev.chr','r') as f:\n",
    "    for sent in f:\n",
    "        chr_vocab.add_sentence(sent)\n",
    "# now the english data\n",
    "with open('chr_en_data/tiny_train.en','r') as f:\n",
    "    for sent in f:\n",
    "        en_vocab.add_sentence(sent)\n",
    "with open('chr_en_data/tiny_dev.en','r') as f:\n",
    "    for sent in f:\n",
    "        en_vocab.add_sentence(sent)\n",
    "\n",
    "print(en_vocab.index2word)\n",
    "print(chr_vocab.index2word)"
   ]
  },
  {
   "cell_type": "code",
   "execution_count": null,
   "metadata": {
    "id": "GK9GSm3BW33u"
   },
   "outputs": [],
   "source": [
    "class MyDataset(Dataset):\n",
    "    def __init__(self, source_sents, target_sents, source_vocab, target_vocab):\n",
    "        self.source = source_sents\n",
    "        self.target = target_sents\n",
    "        self.source_vocab = source_vocab\n",
    "        self.target_vocab = target_vocab\n",
    "\n",
    "    def __len__(self):\n",
    "        return len(self.target)\n",
    "\n",
    "    def __getitem__(self, index):\n",
    "        source_ids = [self.source_vocab.word2index[x] for x in self.source[index]]\n",
    "        target_ids = [self.target_vocab.word2index[x] for x in self.target[index]]\n",
    "\n",
    "        # lets make sure we always add the start and end token tot the sequences\n",
    "        source_ids = [self.source_vocab.sos_idx] + source_ids + [self.source_vocab.eos_idx]\n",
    "        target_ids = [self.target_vocab.sos_idx] + target_ids + [self.target_vocab.eos_idx]\n",
    "        return torch.tensor(source_ids), torch.tensor(target_ids)"
   ]
  },
  {
   "cell_type": "markdown",
   "metadata": {
    "id": "Nc4iQIYyl2zN"
   },
   "source": [
    "Let us initialize our train and test dataset"
   ]
  },
  {
   "cell_type": "code",
   "execution_count": null,
   "metadata": {
    "id": "dY6og0iRl6GU"
   },
   "outputs": [],
   "source": [
    "chr_train_sents = []\n",
    "chr_test_sents = []\n",
    "en_train_sents = []\n",
    "en_test_sents = []\n",
    "\n",
    "with open('chr_en_data/tiny_train.chr','r') as f:\n",
    "    for sent in f:\n",
    "        chr_train_sents.append(word_tokenize(sent))\n",
    "with open('chr_en_data/tiny_dev.chr','r') as f:\n",
    "    for sent in f:\n",
    "        chr_test_sents.append(word_tokenize(sent))\n",
    "with open('chr_en_data/tiny_train.en','r') as f:\n",
    "    for sent in f:\n",
    "        en_train_sents.append(word_tokenize(sent))\n",
    "with open('chr_en_data/tiny_dev.en','r') as f:\n",
    "    for sent in f:\n",
    "        en_test_sents.append(word_tokenize(sent))\n",
    "\n",
    "train_dataset = MyDataset(chr_train_sents, en_train_sents, chr_vocab, en_vocab)\n",
    "test_dataset = MyDataset(chr_test_sents, en_test_sents, chr_vocab, en_vocab)"
   ]
  },
  {
   "cell_type": "code",
   "execution_count": null,
   "metadata": {
    "colab": {
     "base_uri": "https://localhost:8080/"
    },
    "executionInfo": {
     "elapsed": 18,
     "status": "ok",
     "timestamp": 1638376918896,
     "user": {
      "displayName": "Victor Milewski",
      "photoUrl": "https://lh3.googleusercontent.com/a-/AOh14GiN8ATR8MBxA3DRxgsWRfETNmC5Ng4t-z_MXil1pw=s64",
      "userId": "00980338011929053842"
     },
     "user_tz": -60
    },
    "id": "mt9-gHVWrawe",
    "outputId": "32a8b1ef-36ae-491b-ac5c-4e7ae5023f4e"
   },
   "outputs": [
    {
     "data": {
      "text/plain": [
       "20"
      ]
     },
     "execution_count": 14,
     "metadata": {},
     "output_type": "execute_result"
    }
   ],
   "source": [
    "len(train_dataset.source)"
   ]
  },
  {
   "cell_type": "markdown",
   "metadata": {
    "id": "T_9j2PQoXspQ"
   },
   "source": [
    "# Defining our model"
   ]
  },
  {
   "cell_type": "markdown",
   "metadata": {
    "id": "4as1_pLNXJLX"
   },
   "source": [
    "First we define our RNN as a seperate module"
   ]
  },
  {
   "cell_type": "code",
   "execution_count": null,
   "metadata": {
    "id": "YR3qLSjvXGWw"
   },
   "outputs": [],
   "source": [
    "class MyRNNCell(nn.Module):\n",
    "    def __init__(self, input_size, hidden_size):\n",
    "        super(MyRNNCell, self).__init__()\n",
    "        self.hidden_size = hidden_size\n",
    "\n",
    "        # first we define all our matrices and parameters\n",
    "        self.weight_in = nn.Parameter(data=torch.zeros(input_size, hidden_size))\n",
    "        self.weight_h = nn.Parameter(data=torch.zeros(hidden_size, hidden_size))\n",
    "        self.bias = nn.Parameter(data=torch.zeros(hidden_size))\n",
    "\n",
    "        # now we initialize the parameters with random values\n",
    "        nn.init.uniform_(self.weight_in, -0.5, 0.5)\n",
    "        nn.init.uniform_(self.weight_h, -0.5, 0.5)\n",
    "        nn.init.uniform_(self.bias, -0.5, 0.5)\n",
    "\n",
    "    def forward(self, input, hidden):\n",
    "        # in the forward function we define our layers. \n",
    "        # for matrix multiplications you can use the @ operator\n",
    "        # for transpose you can use tensor.T\n",
    "        # make sure to add a sigmoid non linearity after the rnn step with torch.sigmoid()\n",
    "        output = self.weight_in.T @ input + self.weight_h.T @ hidden + self.bias\n",
    "        output = torch.sigmoid(output)\n",
    "        return output"
   ]
  },
  {
   "cell_type": "markdown",
   "metadata": {
    "id": "pkuDYObQHIXt"
   },
   "source": [
    "Then, we use this RNN module in both the encoder and the decoder."
   ]
  },
  {
   "cell_type": "code",
   "execution_count": null,
   "metadata": {
    "id": "XocZuMB3Xs3e"
   },
   "outputs": [],
   "source": [
    "class MyRNNEncoder(nn.Module):\n",
    "    def __init__(self, source_vocab_size, emb_size, hidden_size):\n",
    "        super(MyRNNEncoder, self).__init__()\n",
    "        self.hidden_size = hidden_size\n",
    "\n",
    "        self.source_embedding = nn.Embedding(source_vocab_size, emb_size)\n",
    "        self.rnn = MyRNNCell(emb_size, hidden_size)\n",
    "\n",
    "    def forward(self, input_word, hidden):\n",
    "        # performs one rnn_step\n",
    "        emb = self.source_embedding(input_word)\n",
    "        hidden = self.rnn(emb, hidden)\n",
    "        return hidden\n",
    "    \n",
    "    def init_hidden(self):\n",
    "        return torch.zeros((self.hidden_size),requires_grad=True)"
   ]
  },
  {
   "cell_type": "code",
   "execution_count": null,
   "metadata": {
    "id": "8FjaUTryikKb"
   },
   "outputs": [],
   "source": [
    "class MyRNNDecoder(nn.Module):\n",
    "    def __init__(self, target_vocab_size, emb_size, hidden_size):\n",
    "        super(MyRNNDecoder, self).__init__()\n",
    "        self.hidden_size = hidden_size\n",
    "\n",
    "        self.target_embedding = nn.Embedding(target_vocab_size, emb_size)\n",
    "        self.rnn = MyRNNCell(emb_size, hidden_size)\n",
    "        self.weight_out = nn.Parameter(data=torch.zeros(hidden_size, target_vocab_size))\n",
    "\n",
    "        nn.init.uniform_(self.weight_out, -0.5, 0.5)\n",
    "\n",
    "    def forward(self, input_word, hidden):\n",
    "        # performs one rnn_step\n",
    "        emb = self.target_embedding(input_word)\n",
    "        hidden = self.rnn(emb, hidden)\n",
    "        output = self.weight_out.T @ hidden\n",
    "        return output, hidden"
   ]
  },
  {
   "cell_type": "markdown",
   "metadata": {
    "id": "C-qIrKtiX0_B"
   },
   "source": [
    "# Training and Evaluating\n",
    "\n",
    "First we define the loss function (criterion), the optimizer, and some settings."
   ]
  },
  {
   "cell_type": "code",
   "execution_count": null,
   "metadata": {
    "colab": {
     "base_uri": "https://localhost:8080/"
    },
    "executionInfo": {
     "elapsed": 13,
     "status": "ok",
     "timestamp": 1638376918898,
     "user": {
      "displayName": "Victor Milewski",
      "photoUrl": "https://lh3.googleusercontent.com/a-/AOh14GiN8ATR8MBxA3DRxgsWRfETNmC5Ng4t-z_MXil1pw=s64",
      "userId": "00980338011929053842"
     },
     "user_tz": -60
    },
    "id": "EC2fgzJXkJ2t",
    "outputId": "ab9edba4-980b-4f6d-d103-ca0fc64251bd"
   },
   "outputs": [
    {
     "name": "stdout",
     "output_type": "stream",
     "text": [
      "MyRNNEncoder(\n",
      "  (source_embedding): Embedding(173, 32)\n",
      "  (rnn): MyRNNCell()\n",
      ")\n",
      "MyRNNDecoder(\n",
      "  (target_embedding): Embedding(207, 32)\n",
      "  (rnn): MyRNNCell()\n",
      ")\n"
     ]
    }
   ],
   "source": [
    "hidden_size = 64\n",
    "emb_size = 32\n",
    "learning_rate = 0.1\n",
    "\n",
    "rnn_encoder = MyRNNEncoder(chr_vocab.n_words, emb_size, hidden_size)\n",
    "rnn_decoder = MyRNNDecoder(en_vocab.n_words, emb_size, hidden_size)\n",
    "\n",
    "rnn_criterion = nn.CrossEntropyLoss()\n",
    "\n",
    "params = list(rnn_encoder.parameters()) + list(rnn_decoder.parameters())\n",
    "rnn_optimizer = torch.optim.SGD(params, lr=learning_rate)\n",
    "\n",
    "print(rnn_encoder)\n",
    "print(rnn_decoder)"
   ]
  },
  {
   "cell_type": "code",
   "execution_count": null,
   "metadata": {
    "id": "VTfOvpf4ciYk"
   },
   "outputs": [],
   "source": [
    "def train_model(num_epochs, encoder, decoder, criterion, optimizer):\n",
    "    losses = []\n",
    "    for epoch in range(num_epochs):\n",
    "        \n",
    "        for i, (source, target) in enumerate(train_dataset):\n",
    "            hidden_state = encoder.init_hidden()\n",
    "            # first we encode the entire sentence\n",
    "            for word in source:\n",
    "                hidden_state = encoder(word, hidden_state)\n",
    "            \n",
    "            # now we run the decoder\n",
    "            outputs = torch.zeros(target.shape[-1], en_vocab.n_words)\n",
    "            for t_idx, word in enumerate(target):\n",
    "                output, hidden_state = decoder(word, hidden_state)\n",
    "                outputs[t_idx] = output\n",
    "            \n",
    "            # let us compute the loss\n",
    "            loss = criterion(outputs, target)\n",
    "            losses.append(loss)\n",
    "\n",
    "            # now we do the backprop\n",
    "            optimizer.zero_grad()\n",
    "            loss.backward()\n",
    "            optimizer.step()\n",
    "            \n",
    "        print(\n",
    "            f\"Epoch [{epoch + 1}/{num_epochs}], \"\n",
    "            f\"Step [{i + 1}/{len(train_dataset)}], \"\n",
    "            f\"Loss: {loss.item():.4f}\"\n",
    "        )\n",
    "    return losses"
   ]
  },
  {
   "cell_type": "code",
   "execution_count": null,
   "metadata": {
    "colab": {
     "base_uri": "https://localhost:8080/"
    },
    "executionInfo": {
     "elapsed": 2095,
     "status": "ok",
     "timestamp": 1638376921309,
     "user": {
      "displayName": "Victor Milewski",
      "photoUrl": "https://lh3.googleusercontent.com/a-/AOh14GiN8ATR8MBxA3DRxgsWRfETNmC5Ng4t-z_MXil1pw=s64",
      "userId": "00980338011929053842"
     },
     "user_tz": -60
    },
    "id": "_qBm_gRiukN1",
    "outputId": "33ed0485-57a0-4fdf-a935-c27c1c1df1ce"
   },
   "outputs": [
    {
     "name": "stdout",
     "output_type": "stream",
     "text": [
      "Epoch [1/20], Step [20/20], Loss: 4.5121\n",
      "Epoch [2/20], Step [20/20], Loss: 3.6680\n",
      "Epoch [3/20], Step [20/20], Loss: 3.2773\n",
      "Epoch [4/20], Step [20/20], Loss: 2.9944\n",
      "Epoch [5/20], Step [20/20], Loss: 2.7627\n",
      "Epoch [6/20], Step [20/20], Loss: 2.5645\n",
      "Epoch [7/20], Step [20/20], Loss: 2.3909\n",
      "Epoch [8/20], Step [20/20], Loss: 2.2367\n",
      "Epoch [9/20], Step [20/20], Loss: 2.0983\n",
      "Epoch [10/20], Step [20/20], Loss: 1.9733\n",
      "Epoch [11/20], Step [20/20], Loss: 1.8597\n",
      "Epoch [12/20], Step [20/20], Loss: 1.7559\n",
      "Epoch [13/20], Step [20/20], Loss: 1.6608\n",
      "Epoch [14/20], Step [20/20], Loss: 1.5733\n",
      "Epoch [15/20], Step [20/20], Loss: 1.4926\n",
      "Epoch [16/20], Step [20/20], Loss: 1.4180\n",
      "Epoch [17/20], Step [20/20], Loss: 1.3489\n",
      "Epoch [18/20], Step [20/20], Loss: 1.2848\n",
      "Epoch [19/20], Step [20/20], Loss: 1.2250\n",
      "Epoch [20/20], Step [20/20], Loss: 1.1693\n"
     ]
    }
   ],
   "source": [
    "rnn_losses = train_model(20, rnn_encoder, rnn_decoder, rnn_criterion, rnn_optimizer)"
   ]
  },
  {
   "cell_type": "markdown",
   "metadata": {
    "id": "0ZABhk9YJQ-G"
   },
   "source": [
    "Now let us plot the losses:"
   ]
  },
  {
   "cell_type": "code",
   "execution_count": null,
   "metadata": {
    "colab": {
     "base_uri": "https://localhost:8080/",
     "height": 283
    },
    "executionInfo": {
     "elapsed": 515,
     "status": "ok",
     "timestamp": 1638376921819,
     "user": {
      "displayName": "Victor Milewski",
      "photoUrl": "https://lh3.googleusercontent.com/a-/AOh14GiN8ATR8MBxA3DRxgsWRfETNmC5Ng4t-z_MXil1pw=s64",
      "userId": "00980338011929053842"
     },
     "user_tz": -60
    },
    "id": "DhJFzUAgnO_Z",
    "outputId": "b0f547eb-988e-4669-f18a-2dffccac6d60"
   },
   "outputs": [
    {
     "data": {
      "text/plain": [
       "[<matplotlib.lines.Line2D at 0x7f07badef1d0>]"
      ]
     },
     "execution_count": 21,
     "metadata": {},
     "output_type": "execute_result"
    },
    {
     "data": {
      "image/png": "[encoded data removed]",
      "text/plain": [
       "<Figure size 432x288 with 1 Axes>"
      ]
     },
     "metadata": {
      "needs_background": "light"
     },
     "output_type": "display_data"
    }
   ],
   "source": [
    "import matplotlib.pyplot as plt\n",
    "plt.plot(range(len(rnn_losses)), rnn_losses)"
   ]
  },
  {
   "cell_type": "markdown",
   "metadata": {
    "id": "83SMI3aBpNJj"
   },
   "source": [
    "# Repeat with LSTM"
   ]
  },
  {
   "cell_type": "code",
   "execution_count": null,
   "metadata": {
    "id": "ve6dPuEVLhe5"
   },
   "outputs": [],
   "source": [
    "class MyLSTMCell(nn.Module):\n",
    "    def __init__(self, input_size, hidden_size):\n",
    "        super(MyLSTMCell, self).__init__()\n",
    "        self.hidden_size = hidden_size\n",
    "\n",
    "        ## first we define all our matrices and parameters\n",
    "        # in gate\n",
    "        self.weight_in_in = nn.Parameter(data=torch.zeros(input_size, hidden_size))\n",
    "        self.weight_in_h = nn.Parameter(data=torch.zeros(hidden_size, hidden_size))\n",
    "        self.bias_in = nn.Parameter(data=torch.zeros(hidden_size))\n",
    "\n",
    "        # forget gate\n",
    "        self.weight_forget_in = nn.Parameter(data=torch.zeros(input_size, hidden_size))\n",
    "        self.weight_forget_h = nn.Parameter(data=torch.zeros(hidden_size, hidden_size))\n",
    "        self.bias_forget = nn.Parameter(data=torch.zeros(hidden_size))\n",
    "\n",
    "        # cell gate\n",
    "        self.weight_cell_in = nn.Parameter(data=torch.zeros(input_size, hidden_size))\n",
    "        self.weight_cell_h = nn.Parameter(data=torch.zeros(hidden_size, hidden_size))\n",
    "        self.bias_cell = nn.Parameter(data=torch.zeros(hidden_size))\n",
    "\n",
    "        # out gate\n",
    "        self.weight_out_in = nn.Parameter(data=torch.zeros(input_size, hidden_size))\n",
    "        self.weight_out_h = nn.Parameter(data=torch.zeros(hidden_size, hidden_size))\n",
    "        self.bias_out = nn.Parameter(data=torch.zeros(hidden_size))\n",
    "\n",
    "        # now we initialize the parameters with random values\n",
    "        nn.init.uniform_(self.weight_in_in, -0.5, 0.5)\n",
    "        nn.init.uniform_(self.weight_in_h, -0.5, 0.5)\n",
    "        nn.init.uniform_(self.bias_in, -0.5, 0.5)\n",
    "        nn.init.uniform_(self.weight_forget_in, -0.5, 0.5)\n",
    "        nn.init.uniform_(self.weight_forget_h, -0.5, 0.5)\n",
    "        nn.init.uniform_(self.bias_forget, -0.5, 0.5)\n",
    "        nn.init.uniform_(self.weight_cell_in, -0.5, 0.5)\n",
    "        nn.init.uniform_(self.weight_cell_h, -0.5, 0.5)\n",
    "        nn.init.uniform_(self.bias_cell, -0.5, 0.5)\n",
    "        nn.init.uniform_(self.weight_out_in, -0.5, 0.5)\n",
    "        nn.init.uniform_(self.weight_out_h, -0.5, 0.5)\n",
    "        nn.init.uniform_(self.bias_out, -0.5, 0.5)\n",
    "        \n",
    "    def forward(self, input, state):\n",
    "        # in the forward function we define our layers. \n",
    "        # for matrix multiplications you can use the @ operator\n",
    "        # for transpose you can use tensor.T\n",
    "        # make sure to add a sigmoid non linearity after every rnn step\n",
    "        hx, cx = state\n",
    "\n",
    "        ingate = self.weight_in_in.T @ input + self.weight_in_h.T @ hx + self.bias_in\n",
    "        forgetgate = self.weight_forget_in.T @ input + self.weight_forget_h.T @ hx + self.bias_forget\n",
    "        cellgate = self.weight_cell_in.T @ input + self.weight_cell_h.T @ hx + self.bias_cell\n",
    "        outgate = self.weight_out_in.T @ input + self.weight_out_h.T @ hx + self.bias_out\n",
    "\n",
    "        ingate = torch.sigmoid(ingate)\n",
    "        forgetgate = torch.sigmoid(forgetgate)\n",
    "        cellgate = torch.tanh(cellgate)\n",
    "        outgate = torch.sigmoid(outgate)\n",
    "\n",
    "        cy = (forgetgate * cx) + (ingate * cellgate)\n",
    "        hy = outgate * torch.tanh(cy)\n",
    "\n",
    "        return hy, cy"
   ]
  },
  {
   "cell_type": "code",
   "execution_count": null,
   "metadata": {
    "id": "_jbUNyHrsykr"
   },
   "outputs": [],
   "source": [
    "class MyLSTMEncoder(nn.Module):\n",
    "    def __init__(self, source_vocab_size, emb_size, hidden_size):\n",
    "        super(MyLSTMEncoder, self).__init__()\n",
    "        self.hidden_size = hidden_size\n",
    "\n",
    "        self.source_embedding = nn.Embedding(source_vocab_size, emb_size)\n",
    "        self.rnn = MyLSTMCell(emb_size, hidden_size)\n",
    "\n",
    "    def forward(self, input_word, state):\n",
    "        # performs one rnn_step\n",
    "        emb = self.source_embedding(input_word)\n",
    "        state = self.rnn(emb, state)\n",
    "        return state\n",
    "    \n",
    "    def init_hidden(self):\n",
    "        return (torch.zeros((self.hidden_size),requires_grad=True), \n",
    "                torch.zeros((self.hidden_size),requires_grad=True))"
   ]
  },
  {
   "cell_type": "code",
   "execution_count": null,
   "metadata": {
    "id": "MyD5_otctLjK"
   },
   "outputs": [],
   "source": [
    "class MyLSTMDecoder(nn.Module):\n",
    "    def __init__(self, target_vocab_size, emb_size, hidden_size):\n",
    "        super(MyLSTMDecoder, self).__init__()\n",
    "        self.hidden_size = hidden_size\n",
    "\n",
    "        self.target_embedding = nn.Embedding(target_vocab_size, emb_size)\n",
    "        self.rnn = MyLSTMCell(emb_size, hidden_size)\n",
    "        self.weight_out = nn.Parameter(data=torch.zeros(hidden_size, target_vocab_size))\n",
    "\n",
    "        nn.init.uniform_(self.weight_out, -0.5, 0.5)\n",
    "\n",
    "    def forward(self, input_word, state):\n",
    "        # performs one rnn_step\n",
    "        emb = self.target_embedding(input_word)\n",
    "        hidden, cell = self.rnn(emb, state)\n",
    "        output = self.weight_out.T @ hidden\n",
    "        return output, (hidden, cell)"
   ]
  },
  {
   "cell_type": "code",
   "execution_count": null,
   "metadata": {
    "colab": {
     "base_uri": "https://localhost:8080/"
    },
    "executionInfo": {
     "elapsed": 29,
     "status": "ok",
     "timestamp": 1638376921828,
     "user": {
      "displayName": "Victor Milewski",
      "photoUrl": "https://lh3.googleusercontent.com/a-/AOh14GiN8ATR8MBxA3DRxgsWRfETNmC5Ng4t-z_MXil1pw=s64",
      "userId": "00980338011929053842"
     },
     "user_tz": -60
    },
    "id": "NNmM1z5JtjGn",
    "outputId": "d6afbc1b-98de-4f4b-c4d7-131c8bc56331"
   },
   "outputs": [
    {
     "name": "stdout",
     "output_type": "stream",
     "text": [
      "MyLSTMEncoder(\n",
      "  (source_embedding): Embedding(173, 32)\n",
      "  (rnn): MyLSTMCell()\n",
      ")\n",
      "MyLSTMDecoder(\n",
      "  (target_embedding): Embedding(207, 32)\n",
      "  (rnn): MyLSTMCell()\n",
      ")\n"
     ]
    }
   ],
   "source": [
    "hidden_size = 64\n",
    "emb_size = 32\n",
    "learning_rate = 0.1\n",
    "\n",
    "lstm_encoder = MyLSTMEncoder(chr_vocab.n_words, emb_size, hidden_size)\n",
    "lstm_decoder = MyLSTMDecoder(en_vocab.n_words, emb_size, hidden_size)\n",
    "\n",
    "lstm_criterion = nn.CrossEntropyLoss()\n",
    "\n",
    "params = list(lstm_encoder.parameters()) + list(lstm_decoder.parameters())\n",
    "lstm_optimizer = torch.optim.SGD(params, lr=learning_rate)\n",
    "\n",
    "print(lstm_encoder)\n",
    "print(lstm_decoder)"
   ]
  },
  {
   "cell_type": "code",
   "execution_count": null,
   "metadata": {
    "colab": {
     "base_uri": "https://localhost:8080/"
    },
    "executionInfo": {
     "elapsed": 6425,
     "status": "ok",
     "timestamp": 1638376928231,
     "user": {
      "displayName": "Victor Milewski",
      "photoUrl": "https://lh3.googleusercontent.com/a-/AOh14GiN8ATR8MBxA3DRxgsWRfETNmC5Ng4t-z_MXil1pw=s64",
      "userId": "00980338011929053842"
     },
     "user_tz": -60
    },
    "id": "0E7GGp1ntw5d",
    "outputId": "25ae5b2f-cfc4-4a5f-f801-efd731c8dc67"
   },
   "outputs": [
    {
     "name": "stdout",
     "output_type": "stream",
     "text": [
      "Epoch [1/20], Step [20/20], Loss: 5.2291\n",
      "Epoch [2/20], Step [20/20], Loss: 4.6348\n",
      "Epoch [3/20], Step [20/20], Loss: 4.1328\n",
      "Epoch [4/20], Step [20/20], Loss: 3.7076\n",
      "Epoch [5/20], Step [20/20], Loss: 3.3440\n",
      "Epoch [6/20], Step [20/20], Loss: 3.0398\n",
      "Epoch [7/20], Step [20/20], Loss: 2.8023\n",
      "Epoch [8/20], Step [20/20], Loss: 2.6211\n",
      "Epoch [9/20], Step [20/20], Loss: 2.4757\n",
      "Epoch [10/20], Step [20/20], Loss: 2.3505\n",
      "Epoch [11/20], Step [20/20], Loss: 2.2367\n",
      "Epoch [12/20], Step [20/20], Loss: 2.1295\n",
      "Epoch [13/20], Step [20/20], Loss: 2.0266\n",
      "Epoch [14/20], Step [20/20], Loss: 1.9268\n",
      "Epoch [15/20], Step [20/20], Loss: 1.8296\n",
      "Epoch [16/20], Step [20/20], Loss: 1.7349\n",
      "Epoch [17/20], Step [20/20], Loss: 1.6427\n",
      "Epoch [18/20], Step [20/20], Loss: 1.5533\n",
      "Epoch [19/20], Step [20/20], Loss: 1.4669\n",
      "Epoch [20/20], Step [20/20], Loss: 1.3840\n"
     ]
    }
   ],
   "source": [
    "lstm_losses = train_model(20, lstm_encoder, lstm_decoder, lstm_criterion, lstm_optimizer)"
   ]
  },
  {
   "cell_type": "code",
   "execution_count": null,
   "metadata": {
    "colab": {
     "base_uri": "https://localhost:8080/",
     "height": 283
    },
    "executionInfo": {
     "elapsed": 528,
     "status": "ok",
     "timestamp": 1638376928731,
     "user": {
      "displayName": "Victor Milewski",
      "photoUrl": "https://lh3.googleusercontent.com/a-/AOh14GiN8ATR8MBxA3DRxgsWRfETNmC5Ng4t-z_MXil1pw=s64",
      "userId": "00980338011929053842"
     },
     "user_tz": -60
    },
    "id": "vFmtkvVxvKVf",
    "outputId": "e3a1f4f0-ade5-40b4-e066-e791d4e169ed"
   },
   "outputs": [
    {
     "data": {
      "text/plain": [
       "[<matplotlib.lines.Line2D at 0x7f07ba8545d0>]"
      ]
     },
     "execution_count": 27,
     "metadata": {},
     "output_type": "execute_result"
    },
    {
     "data": {
      "image/png": "[encoded data removed]",
      "text/plain": [
       "<Figure size 432x288 with 1 Axes>"
      ]
     },
     "metadata": {
      "needs_background": "light"
     },
     "output_type": "display_data"
    }
   ],
   "source": [
    "plt.plot(range(len(rnn_losses)), rnn_losses)"
   ]
  },
  {
   "cell_type": "markdown",
   "metadata": {
    "id": "J9hchMqmxUbL"
   },
   "source": [
    "### compare the predictions\n",
    "\n",
    "we make a very simple script that takes one of the sentence from the train set and we compare the predictions. \n",
    "\n",
    "We don't use the test sentence, since with the tiny dataset we overfit extremely on our data. "
   ]
  },
  {
   "cell_type": "code",
   "execution_count": null,
   "metadata": {
    "id": "_LIRwe5QwcGh"
   },
   "outputs": [],
   "source": [
    "def test_sentence(encoder, decoder, criterion, optimizer):\n",
    "    with torch.no_grad():\n",
    "        source, target = train_dataset[0]\n",
    "        hidden_state = encoder.init_hidden()\n",
    "        # first we encode the entire sentence\n",
    "        for word in source:\n",
    "            hidden_state = encoder(word, hidden_state)\n",
    "        \n",
    "        # now we run the decoder\n",
    "        outputs = torch.zeros(target.shape[-1], en_vocab.n_words)\n",
    "        for t_idx, word in enumerate(target):\n",
    "            output, hidden_state = decoder(word, hidden_state)\n",
    "            outputs[t_idx] = output\n",
    "            \n",
    "        # let us compute the loss\n",
    "        loss = rnn_criterion(outputs, target)\n",
    "    pred_ids = outputs.argmax(dim=-1).detach()\n",
    "    sentence = [en_vocab.index2word[idx.item()] for idx in pred_ids]\n",
    "    print(\"loss: {}\".format(loss.detach().item()))\n",
    "    print(sentence)\n"
   ]
  },
  {
   "cell_type": "code",
   "execution_count": null,
   "metadata": {
    "colab": {
     "base_uri": "https://localhost:8080/"
    },
    "executionInfo": {
     "elapsed": 26,
     "status": "ok",
     "timestamp": 1638376928733,
     "user": {
      "displayName": "Victor Milewski",
      "photoUrl": "https://lh3.googleusercontent.com/a-/AOh14GiN8ATR8MBxA3DRxgsWRfETNmC5Ng4t-z_MXil1pw=s64",
      "userId": "00980338011929053842"
     },
     "user_tz": -60
    },
    "id": "iKUzoQNlyIAR",
    "outputId": "cc0ad399-1c20-4712-913e-d8ef038570b1"
   },
   "outputs": [
    {
     "name": "stdout",
     "output_type": "stream",
     "text": [
      "loss: 2.9869914054870605\n",
      "['SOS', 'and', 'over', 'the', 'Wilbur', 'the', 'that', ',', ',', 'of', 'of', 'they', 'things', ',', 'of', 'he', 'ye', 'The', 'EOS', 'be', 'of', 'over', 'the', 'EOS', 'of', 'to', '.', 'EOS']\n"
     ]
    }
   ],
   "source": [
    "test_sentence(rnn_encoder, rnn_decoder, rnn_criterion, rnn_optimizer)"
   ]
  },
  {
   "cell_type": "code",
   "execution_count": null,
   "metadata": {
    "colab": {
     "base_uri": "https://localhost:8080/"
    },
    "executionInfo": {
     "elapsed": 17,
     "status": "ok",
     "timestamp": 1638376928733,
     "user": {
      "displayName": "Victor Milewski",
      "photoUrl": "https://lh3.googleusercontent.com/a-/AOh14GiN8ATR8MBxA3DRxgsWRfETNmC5Ng4t-z_MXil1pw=s64",
      "userId": "00980338011929053842"
     },
     "user_tz": -60
    },
    "id": "8AudA0auy9m5",
    "outputId": "2f240abf-925c-4646-fef3-4e9414a760b7"
   },
   "outputs": [
    {
     "name": "stdout",
     "output_type": "stream",
     "text": [
      "loss: 3.119859457015991\n",
      "['SOS', 'and', 'some', 'him', 'unto', 'distribute', 'that', 'that', '.', 'EOS', '.', 'EOS', '”', ',', '.', 'the', 'ye', 'the', 'by', 'be', 'EOS', 'own', 'the', 'was', 'of', 'EOS', '.', 'EOS']\n"
     ]
    }
   ],
   "source": [
    "test_sentence(lstm_encoder, lstm_decoder, lstm_criterion, lstm_optimizer)"
   ]
  }
 ],
 "metadata": {
  "colab": {
   "collapsed_sections": [],
   "name": "Exercise5_NMT_solutions.ipynb",
   "provenance": []
  },
  "kernelspec": {
   "display_name": "Python 3 (ipykernel)",
   "language": "python",
   "name": "python3"
  },
  "language_info": {
   "codemirror_mode": {
    "name": "ipython",
    "version": 3
   },
   "file_extension": ".py",
   "mimetype": "text/x-python",
   "name": "python",
   "nbconvert_exporter": "python",
   "pygments_lexer": "ipython3",
   "version": "3.9.12"
  }
 },
 "nbformat": 4,
 "nbformat_minor": 1
}
